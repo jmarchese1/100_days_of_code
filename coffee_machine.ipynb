{
  "nbformat": 4,
  "nbformat_minor": 0,
  "metadata": {
    "colab": {
      "provenance": []
    },
    "kernelspec": {
      "name": "python3",
      "display_name": "Python 3"
    },
    "language_info": {
      "name": "python"
    }
  },
  "cells": [
    {
      "cell_type": "code",
      "execution_count": 1,
      "metadata": {
        "id": "As-Bx2QJjvek"
      },
      "outputs": [],
      "source": [
        "#creating a coffee machine class\n",
        "\n",
        "class coffee_machine:\n",
        "  def __init__(self, milk, water, beans, money):\n",
        "    self.milk = milk\n",
        "    self.water = water\n",
        "    self.beans = beans\n",
        "    self.money = money\n",
        "\n",
        "  def fill_water(self):\n",
        "    self.water += int(input(\"how much water will you add to the machine\"))\n",
        "\n",
        "  def fill_milk(self):\n",
        "    self.milk += int(input(\"how much milk will you add to the machine\"))\n",
        "\n",
        "  def add_beans(self):\n",
        "    self.beans += int(input(\"how many beans will be added to the machine\"))\n",
        "\n",
        "  def get_beans(self):\n",
        "    print(f\"you have {self.beans} beans left\")\n",
        "\n",
        "  def get_milk(self):\n",
        "    print(f\"you have {self.milk} milk left\")\n",
        "\n",
        "  def get_water(self):\n",
        "    print(f\"you have {self.water} water left\")\n",
        "\n",
        "  def brew_coffee(self, drink):\n",
        "    self.drink = drink\n",
        "\n",
        "    if self.drink == \"coffee\":\n",
        "      bean_cost = 50\n",
        "      milk_cost = 10\n",
        "      water_cost = 90\n",
        "      cost = 3\n",
        "    elif self.drink == \"latte\":\n",
        "      bean_cost = 50\n",
        "      milk_cost = 60\n",
        "      water_cost = 40\n",
        "      cost = 5\n",
        "    elif self.drink == \"cappucino\":\n",
        "      bean_cost = 100\n",
        "      milk_cost = 30\n",
        "      water = 70\n",
        "      cost = 4\n",
        "    else:\n",
        "      print(\"please enter a valid drink\")\n",
        "\n",
        "\n",
        "    self.beans -= bean_cost\n",
        "    self.milk -= milk_cost\n",
        "    self.water -= water_cost\n",
        "    self.money += cost\n",
        "\n",
        "    if self.beans > 0 and self.milk > 0 and self.water > 0:\n",
        "      print(f\"here is your {self.drink}\")\n",
        "      print(f\"the coffee machine has {self.beans} beans left, {self.milk} oz milk left, and {self.water} oz water left\")\n",
        "    else:\n",
        "      print(\"theres not enough material to make your coffee, refill the machine\")\n",
        "\n"
      ]
    },
    {
      "cell_type": "code",
      "source": [
        "coffee_machine = coffee_machine(200, 200, 200, 0)"
      ],
      "metadata": {
        "id": "Ac_qPkHCna3d"
      },
      "execution_count": 2,
      "outputs": []
    },
    {
      "cell_type": "code",
      "source": [
        "coffee_machine.brew_coffee(\"latte\")"
      ],
      "metadata": {
        "colab": {
          "base_uri": "https://localhost:8080/"
        },
        "id": "51J8BCIknguA",
        "outputId": "0059a781-2798-4c4b-d1c1-eaf2cf6baed3"
      },
      "execution_count": 3,
      "outputs": [
        {
          "output_type": "stream",
          "name": "stdout",
          "text": [
            "here is your latte\n",
            "the coffee machine has 150 beans left, 140 oz milk left, and 160 oz water left\n"
          ]
        }
      ]
    },
    {
      "cell_type": "code",
      "source": [
        "coffee_machine.get_beans()"
      ],
      "metadata": {
        "colab": {
          "base_uri": "https://localhost:8080/"
        },
        "id": "Bxo-73NOnncg",
        "outputId": "fcd5d8b6-6975-472d-8869-e6ef68b13bf3"
      },
      "execution_count": 4,
      "outputs": [
        {
          "output_type": "stream",
          "name": "stdout",
          "text": [
            "you have 150 beans left\n"
          ]
        }
      ]
    },
    {
      "cell_type": "code",
      "source": [
        "coffee_machine.get_water()"
      ],
      "metadata": {
        "colab": {
          "base_uri": "https://localhost:8080/"
        },
        "id": "FObjC_shoOW8",
        "outputId": "a43e64ca-416f-4941-c9ce-1ebf83c2d7f0"
      },
      "execution_count": null,
      "outputs": [
        {
          "output_type": "stream",
          "name": "stdout",
          "text": [
            "you have 110 water left\n"
          ]
        }
      ]
    },
    {
      "cell_type": "code",
      "source": [
        "coffee_machine.fill_water()"
      ],
      "metadata": {
        "id": "o97QNEtnorOH",
        "colab": {
          "base_uri": "https://localhost:8080/"
        },
        "outputId": "b8e6f1dd-ee7c-4eca-b20f-9e3ee1f498b3"
      },
      "execution_count": 7,
      "outputs": [
        {
          "name": "stdout",
          "output_type": "stream",
          "text": [
            "how much water will you add to the machine20\n"
          ]
        }
      ]
    },
    {
      "cell_type": "code",
      "source": [
        "coffee_machine.get_water()"
      ],
      "metadata": {
        "colab": {
          "base_uri": "https://localhost:8080/"
        },
        "id": "G34v_g2iljX5",
        "outputId": "8c86c20e-8566-45ed-e864-7de07d82294d"
      },
      "execution_count": 8,
      "outputs": [
        {
          "output_type": "stream",
          "name": "stdout",
          "text": [
            "you have 180 water left\n"
          ]
        }
      ]
    },
    {
      "cell_type": "code",
      "source": [
        "coffee_machine.get_water()"
      ],
      "metadata": {
        "colab": {
          "base_uri": "https://localhost:8080/"
        },
        "id": "TozThBXUltWS",
        "outputId": "92600f76-4fe8-4226-8bdc-efbcc91b4a8f"
      },
      "execution_count": 9,
      "outputs": [
        {
          "output_type": "stream",
          "name": "stdout",
          "text": [
            "you have 180 water left\n"
          ]
        }
      ]
    },
    {
      "cell_type": "code",
      "source": [
        "coffee_machine.fill_water()"
      ],
      "metadata": {
        "colab": {
          "base_uri": "https://localhost:8080/"
        },
        "id": "doYIP8B5lxj6",
        "outputId": "acda98bf-e07a-449e-b917-5ad2cbed7ebd"
      },
      "execution_count": 10,
      "outputs": [
        {
          "name": "stdout",
          "output_type": "stream",
          "text": [
            "how much water will you add to the machine100\n"
          ]
        }
      ]
    },
    {
      "cell_type": "code",
      "source": [
        "coffee_machine.get_water()"
      ],
      "metadata": {
        "colab": {
          "base_uri": "https://localhost:8080/"
        },
        "id": "SI3Vg_Zfl0Us",
        "outputId": "eabf812d-cf64-4a08-d2ce-1b102f689c2b"
      },
      "execution_count": 11,
      "outputs": [
        {
          "output_type": "stream",
          "name": "stdout",
          "text": [
            "you have 280 water left\n"
          ]
        }
      ]
    },
    {
      "cell_type": "code",
      "source": [],
      "metadata": {
        "id": "xfTdiqH9l2Fi"
      },
      "execution_count": null,
      "outputs": []
    }
  ]
}